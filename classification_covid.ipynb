{
  "nbformat": 4,
  "nbformat_minor": 0,
  "metadata": {
    "colab": {
      "provenance": [],
      "collapsed_sections": []
    },
    "kernelspec": {
      "name": "python3",
      "display_name": "Python 3"
    },
    "language_info": {
      "name": "python"
    }
  },
  "cells": [
    {
      "cell_type": "code",
      "execution_count": null,
      "metadata": {
        "id": "kL9kFZLroFwz"
      },
      "outputs": [],
      "source": [
        "import tensorflow as tf\n",
        "from tensorflow import keras\n",
        "from tensorflow.keras.models import Sequential\n",
        "from tensorflow.keras.preprocessing.image import ImageDataGenerator\n",
        "\n",
        "from sklearn.metrics import classification_report\n",
        "from sklearn.metrics import confusion_matrix\n",
        "\n",
        "from tensorflow.keras.callbacks import EarlyStopping\n",
        "from tensorflow.keras import layers\n",
        "\n",
        "from sklearn.metrics import classification_report, confusion_matrix,plot_confusion_matrix\n",
        "import matplotlib.pyplot as plt\n",
        "import numpy\n"
      ]
    },
    {
      "cell_type": "code",
      "source": [
        "#Construct an ImageDataGenerator object:\n",
        "DIRECTORY = \"sample_data/train\"\n",
        "CLASS_MODE = \"categorical\"\n",
        "COLOR_MODE = \"grayscale\"\n",
        "TARGET_SIZE = (256,256)\n",
        "BATCH_SIZE = 32\n",
        "classes={'Normal': 0, 'Viral Pneumonia': 1,'Covid': 2}\n",
        "\n",
        "training_data_generator = ImageDataGenerator(rescale=1.0/255,\n",
        "\n",
        "#Randomly increase or decrease the size of the image by up to 10%\n",
        "zoom_range=0.1, \n",
        "\n",
        "#Randomly rotate the image between -25,25 degrees\n",
        "rotation_range=25, \n",
        "\n",
        "#Shift the image along its width by up to +/- 5%\n",
        "width_shift_range=0.05, \n",
        "\n",
        "#Shift the image along its height by up to +/- 5%\n",
        "height_shift_range=0.05,\n",
        ")"
      ],
      "metadata": {
        "id": "AkjVhqKs08pr"
      },
      "execution_count": null,
      "outputs": []
    },
    {
      "cell_type": "code",
      "source": [
        "validation_data_generator = ImageDataGenerator()\n",
        "\n",
        "training_iterator = training_data_generator.flow_from_directory(DIRECTORY,class_mode='categorical',color_mode='grayscale',batch_size=BATCH_SIZE,classes=classes)#, subset='training')\n",
        "\n",
        "training_iterator.next()\n",
        "\n",
        "print(\"\\nLoading validation data...\")\n",
        "\n",
        "DIRECTORY = \"sample_data/test\"\n",
        "validation_iterator = validation_data_generator.flow_from_directory(DIRECTORY,class_mode='categorical', color_mode='grayscale',batch_size=BATCH_SIZE,classes=classes)#, subset='validation')\n",
        "\n",
        "#Print its attributes:\n",
        "print(training_data_generator.__dict__)\n",
        "\n",
        "\n",
        "print(\"\\nBuilding model...\")\n",
        "\n",
        "def design_model(training_data):\n",
        "    # sequential model\n",
        "    model = Sequential()\n",
        "    # add input layer with grayscale image shape\n",
        "    model.add(tf.keras.Input(shape=(256, 256, 1)))\n",
        "    # convolutional hidden layers with relu functions\n",
        "    # maxpooling layers and dropout layers as well\n",
        "    model.add(layers.Conv2D(5, 5, strides=3, activation=\"relu\")) \n",
        "    model.add(layers.MaxPooling2D(\n",
        "        pool_size=(2, 2), strides=(2,2)))\n",
        "    model.add(layers.Dropout(0.1))\n",
        "    model.add(layers.Conv2D(3, 3, strides=1, activation=\"relu\")) \n",
        "    model.add(layers.MaxPooling2D(\n",
        "        pool_size=(2, 2), strides=(2,2)))\n",
        "    model.add(layers.Dropout(0.2))\n",
        "\n",
        "    # experimenting with extra layesr\n",
        "    model.add(tf.keras.layers.Conv2D(3, 3, strides=1, activation=\"relu\"))\n",
        "    model.add(tf.keras.layers.Conv2D(1, 1, strides=1, activation=\"relu\"))\n",
        "    model.add(tf.keras.layers.Dropout(0.1))\n",
        "\n",
        "    model.add(layers.Flatten())\n",
        "    # output layer with softmax activation function\n",
        "    model.add(layers.Dense(3,activation=\"softmax\"))\n",
        "    # compile model with Adam optimizer\n",
        "    # loss function is categorical crossentropy\n",
        "    # metrics are categorical accuracy and AUC\n",
        "    print(\"\\nCompiling model...\")\n",
        "    model.compile(optimizer=tf.keras.optimizers.Adam(learning_rate=.001), loss=tf.keras.losses.CategoricalCrossentropy(), metrics=[tf.keras.metrics.CategoricalAccuracy(),tf.keras.metrics.AUC()],)\n",
        "    # summarize model\n",
        "    model.summary()\n",
        "    return model\n"
      ],
      "metadata": {
        "id": "Wf0QnyOCye77",
        "colab": {
          "base_uri": "https://localhost:8080/"
        },
        "outputId": "d840654a-3965-498a-c66b-bb113e843e91"
      },
      "execution_count": null,
      "outputs": [
        {
          "output_type": "stream",
          "name": "stdout",
          "text": [
            "Found 0 images belonging to 3 classes.\n",
            "\n",
            "Loading validation data...\n",
            "Found 0 images belonging to 3 classes.\n",
            "{'featurewise_center': False, 'samplewise_center': False, 'featurewise_std_normalization': False, 'samplewise_std_normalization': False, 'zca_whitening': False, 'zca_epsilon': 1e-06, 'rotation_range': 25, 'width_shift_range': 0.05, 'height_shift_range': 0.05, 'shear_range': 0.0, 'zoom_range': [0.9, 1.1], 'channel_shift_range': 0.0, 'fill_mode': 'nearest', 'cval': 0.0, 'horizontal_flip': False, 'vertical_flip': False, 'rescale': 0.00392156862745098, 'preprocessing_function': None, 'dtype': 'float32', 'interpolation_order': 1, 'data_format': 'channels_last', 'channel_axis': 3, 'row_axis': 1, 'col_axis': 2, '_validation_split': 0.0, 'mean': None, 'std': None, 'principal_components': None, 'brightness_range': None}\n",
            "\n",
            "Building model...\n"
          ]
        }
      ]
    },
    {
      "cell_type": "code",
      "source": [
        "model = design_model(training_iterator)"
      ],
      "metadata": {
        "colab": {
          "base_uri": "https://localhost:8080/"
        },
        "id": "GZkQ8N6P8KT7",
        "outputId": "d65d5fbb-5e42-4d43-a887-1ea6795ba195"
      },
      "execution_count": null,
      "outputs": [
        {
          "output_type": "stream",
          "name": "stdout",
          "text": [
            "\n",
            "Compiling model...\n",
            "Model: \"sequential\"\n",
            "_________________________________________________________________\n",
            " Layer (type)                Output Shape              Param #   \n",
            "=================================================================\n",
            " conv2d (Conv2D)             (None, 84, 84, 5)         130       \n",
            "                                                                 \n",
            " max_pooling2d (MaxPooling2D  (None, 42, 42, 5)        0         \n",
            " )                                                               \n",
            "                                                                 \n",
            " dropout (Dropout)           (None, 42, 42, 5)         0         \n",
            "                                                                 \n",
            " conv2d_1 (Conv2D)           (None, 40, 40, 3)         138       \n",
            "                                                                 \n",
            " max_pooling2d_1 (MaxPooling  (None, 20, 20, 3)        0         \n",
            " 2D)                                                             \n",
            "                                                                 \n",
            " dropout_1 (Dropout)         (None, 20, 20, 3)         0         \n",
            "                                                                 \n",
            " conv2d_2 (Conv2D)           (None, 18, 18, 3)         84        \n",
            "                                                                 \n",
            " conv2d_3 (Conv2D)           (None, 18, 18, 1)         4         \n",
            "                                                                 \n",
            " dropout_2 (Dropout)         (None, 18, 18, 1)         0         \n",
            "                                                                 \n",
            " flatten (Flatten)           (None, 324)               0         \n",
            "                                                                 \n",
            " dense (Dense)               (None, 3)                 975       \n",
            "                                                                 \n",
            "=================================================================\n",
            "Total params: 1,331\n",
            "Trainable params: 1,331\n",
            "Non-trainable params: 0\n",
            "_________________________________________________________________\n"
          ]
        }
      ]
    },
    {
      "cell_type": "code",
      "source": [
        "# early stopping implementation\n",
        "es = EarlyStopping(monitor='val_auc', mode='min', verbose=1, patience=10, restore_best_weights=True)\n",
        "print(\"\\nTraining model...\")\n",
        "# fit the model with 10 ephochs and early stopping\n",
        "history =model.fit(\n",
        "        training_iterator,\n",
        "        steps_per_epoch=training_iterator.samples/BATCH_SIZE, \n",
        "        epochs=10,\n",
        "        validation_data=validation_iterator,\n",
        "        validation_steps=validation_iterator.samples/BATCH_SIZE,\n",
        "        callbacks=[es])"
      ],
      "metadata": {
        "colab": {
          "base_uri": "https://localhost:8080/",
          "height": 389
        },
        "id": "nMJn0x7Q8bcJ",
        "outputId": "6db02b5c-80b6-4137-f510-4027ffac6473"
      },
      "execution_count": null,
      "outputs": [
        {
          "output_type": "stream",
          "name": "stdout",
          "text": [
            "\n",
            "Training model...\n"
          ]
        },
        {
          "output_type": "error",
          "ename": "ValueError",
          "evalue": "ignored",
          "traceback": [
            "\u001b[0;31m---------------------------------------------------------------------------\u001b[0m",
            "\u001b[0;31mValueError\u001b[0m                                Traceback (most recent call last)",
            "\u001b[0;32m<ipython-input-5-ed46abd7fe6f>\u001b[0m in \u001b[0;36m<module>\u001b[0;34m\u001b[0m\n\u001b[1;32m      9\u001b[0m         \u001b[0mvalidation_data\u001b[0m\u001b[0;34m=\u001b[0m\u001b[0mvalidation_iterator\u001b[0m\u001b[0;34m,\u001b[0m\u001b[0;34m\u001b[0m\u001b[0;34m\u001b[0m\u001b[0m\n\u001b[1;32m     10\u001b[0m         \u001b[0mvalidation_steps\u001b[0m\u001b[0;34m=\u001b[0m\u001b[0mvalidation_iterator\u001b[0m\u001b[0;34m.\u001b[0m\u001b[0msamples\u001b[0m\u001b[0;34m/\u001b[0m\u001b[0mBATCH_SIZE\u001b[0m\u001b[0;34m,\u001b[0m\u001b[0;34m\u001b[0m\u001b[0;34m\u001b[0m\u001b[0m\n\u001b[0;32m---> 11\u001b[0;31m         callbacks=[es])\n\u001b[0m",
            "\u001b[0;32m/usr/local/lib/python3.7/dist-packages/keras/utils/traceback_utils.py\u001b[0m in \u001b[0;36merror_handler\u001b[0;34m(*args, **kwargs)\u001b[0m\n\u001b[1;32m     65\u001b[0m     \u001b[0;32mexcept\u001b[0m \u001b[0mException\u001b[0m \u001b[0;32mas\u001b[0m \u001b[0me\u001b[0m\u001b[0;34m:\u001b[0m  \u001b[0;31m# pylint: disable=broad-except\u001b[0m\u001b[0;34m\u001b[0m\u001b[0;34m\u001b[0m\u001b[0m\n\u001b[1;32m     66\u001b[0m       \u001b[0mfiltered_tb\u001b[0m \u001b[0;34m=\u001b[0m \u001b[0m_process_traceback_frames\u001b[0m\u001b[0;34m(\u001b[0m\u001b[0me\u001b[0m\u001b[0;34m.\u001b[0m\u001b[0m__traceback__\u001b[0m\u001b[0;34m)\u001b[0m\u001b[0;34m\u001b[0m\u001b[0;34m\u001b[0m\u001b[0m\n\u001b[0;32m---> 67\u001b[0;31m       \u001b[0;32mraise\u001b[0m \u001b[0me\u001b[0m\u001b[0;34m.\u001b[0m\u001b[0mwith_traceback\u001b[0m\u001b[0;34m(\u001b[0m\u001b[0mfiltered_tb\u001b[0m\u001b[0;34m)\u001b[0m \u001b[0;32mfrom\u001b[0m \u001b[0;32mNone\u001b[0m\u001b[0;34m\u001b[0m\u001b[0;34m\u001b[0m\u001b[0m\n\u001b[0m\u001b[1;32m     68\u001b[0m     \u001b[0;32mfinally\u001b[0m\u001b[0;34m:\u001b[0m\u001b[0;34m\u001b[0m\u001b[0;34m\u001b[0m\u001b[0m\n\u001b[1;32m     69\u001b[0m       \u001b[0;32mdel\u001b[0m \u001b[0mfiltered_tb\u001b[0m\u001b[0;34m\u001b[0m\u001b[0;34m\u001b[0m\u001b[0m\n",
            "\u001b[0;32m/usr/local/lib/python3.7/dist-packages/keras_preprocessing/image/iterator.py\u001b[0m in \u001b[0;36m__getitem__\u001b[0;34m(self, idx)\u001b[0m\n\u001b[1;32m     55\u001b[0m                              \u001b[0;34m'but the Sequence '\u001b[0m\u001b[0;34m\u001b[0m\u001b[0;34m\u001b[0m\u001b[0m\n\u001b[1;32m     56\u001b[0m                              'has length {length}'.format(idx=idx,\n\u001b[0;32m---> 57\u001b[0;31m                                                           length=len(self)))\n\u001b[0m\u001b[1;32m     58\u001b[0m         \u001b[0;32mif\u001b[0m \u001b[0mself\u001b[0m\u001b[0;34m.\u001b[0m\u001b[0mseed\u001b[0m \u001b[0;32mis\u001b[0m \u001b[0;32mnot\u001b[0m \u001b[0;32mNone\u001b[0m\u001b[0;34m:\u001b[0m\u001b[0;34m\u001b[0m\u001b[0;34m\u001b[0m\u001b[0m\n\u001b[1;32m     59\u001b[0m             \u001b[0mnp\u001b[0m\u001b[0;34m.\u001b[0m\u001b[0mrandom\u001b[0m\u001b[0;34m.\u001b[0m\u001b[0mseed\u001b[0m\u001b[0;34m(\u001b[0m\u001b[0mself\u001b[0m\u001b[0;34m.\u001b[0m\u001b[0mseed\u001b[0m \u001b[0;34m+\u001b[0m \u001b[0mself\u001b[0m\u001b[0;34m.\u001b[0m\u001b[0mtotal_batches_seen\u001b[0m\u001b[0;34m)\u001b[0m\u001b[0;34m\u001b[0m\u001b[0;34m\u001b[0m\u001b[0m\n",
            "\u001b[0;31mValueError\u001b[0m: Asked to retrieve element 0, but the Sequence has length 0"
          ]
        }
      ]
    },
    {
      "cell_type": "code",
      "source": [
        "\"\"\"\n",
        "# plotting categorical and validation accuracy over epochs\n",
        "fig = plt.figure()\n",
        "ax1 = fig.add_subplot(2, 1, 1)\n",
        "ax1.plot(history.history['categorical_accuracy'])\n",
        "ax1.plot(history.history['val_categorical_accuracy'])\n",
        "ax1.set_title('model accuracy')\n",
        "ax1.set_xlabel('epoch')\n",
        "ax1.set_ylabel('accuracy')\n",
        "ax1.legend(['train', 'validation'], loc='upper left')\n",
        "\n",
        "# plotting auc and validation auc over epochs\n",
        "ax2 = fig.add_subplot(2, 1, 2)\n",
        "#ax2.plot(history.history['val_auc'])\n",
        "ax2.set_title('model auc')\n",
        "ax2.set_xlabel('epoch')\n",
        "ax2.set_ylabel('auc')\n",
        "ax2.legend(['train', 'validation'], loc='upper left')\n",
        "\n",
        "plt.show()\n",
        "\"\"\"\n",
        "\n",
        "\n",
        "test_steps_per_epoch = numpy.math.ceil(validation_iterator.samples / validation_iterator.batch_size)\n",
        "predictions = model.predict(validation_iterator, steps=test_steps_per_epoch)\n",
        "test_steps_per_epoch = numpy.math.ceil(validation_iterator.samples / validation_iterator.batch_size)\n",
        "predicted_classes = numpy.argmax(predictions, axis=1)\n",
        "true_classes = validation_iterator.classes\n",
        "class_labels = list(validation_iterator.class_indices.keys())\n",
        "report = classification_report(true_classes, predicted_classes)\n",
        "print(report)   \n",
        "\n",
        "cm=confusion_matrix(true_classes,predicted_classes)\n",
        "print(cm)\n",
        "\n",
        "\n",
        "\n",
        "\n",
        "\n",
        "\n"
      ],
      "metadata": {
        "id": "zSm13B62omia",
        "colab": {
          "base_uri": "https://localhost:8080/"
        },
        "outputId": "b3142c4f-05ea-4acf-d292-a6bae9a31108"
      },
      "execution_count": null,
      "outputs": [
        {
          "output_type": "stream",
          "name": "stdout",
          "text": [
            "              precision    recall  f1-score   support\n",
            "\n",
            "           2       1.00      1.00      1.00       111\n",
            "\n",
            "    accuracy                           1.00       111\n",
            "   macro avg       1.00      1.00      1.00       111\n",
            "weighted avg       1.00      1.00      1.00       111\n",
            "\n",
            "[[111]]\n"
          ]
        }
      ]
    }
  ]
}